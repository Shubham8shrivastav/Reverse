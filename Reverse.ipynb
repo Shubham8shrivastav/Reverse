{
 "cells": [
  {
   "cell_type": "code",
   "execution_count": 1,
   "id": "2d3eca9b",
   "metadata": {},
   "outputs": [
    {
     "name": "stdout",
     "output_type": "stream",
     "text": [
      "enter a string: Edyoda\n",
      "a d o y d E "
     ]
    }
   ],
   "source": [
    "S=input(\"enter a string: \")\n",
    "l=len(S)\n",
    "for i in range (l-1,-1,-1):\n",
    "    print(S[i],end=\" \")"
   ]
  }
 ],
 "metadata": {
  "kernelspec": {
   "display_name": "Python 3 (ipykernel)",
   "language": "python",
   "name": "python3"
  },
  "language_info": {
   "codemirror_mode": {
    "name": "ipython",
    "version": 3
   },
   "file_extension": ".py",
   "mimetype": "text/x-python",
   "name": "python",
   "nbconvert_exporter": "python",
   "pygments_lexer": "ipython3",
   "version": "3.9.7"
  }
 },
 "nbformat": 4,
 "nbformat_minor": 5
}
